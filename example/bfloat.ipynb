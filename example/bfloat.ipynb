{
 "cells": [
  {
   "cell_type": "code",
   "execution_count": 1,
   "id": "45ac43d6-328d-478b-b766-8b3b24bccd0b",
   "metadata": {},
   "outputs": [],
   "source": [
    "import numpy as np\n",
    "from ml_dtypes import bfloat16\n",
    "\n",
    "from npu.build.appbuilder import AppBuilder\n",
    "from npu.build.mtkernel import MTPassThrough\n",
    "from npu.build.itkernel import ITWrite\n",
    "from npu.build.kernel import Kernel\n",
    "from npu.build.port import BufferPort, RTPPort"
   ]
  },
  {
   "cell_type": "code",
   "execution_count": 2,
   "id": "779af977-2e65-4739-8120-254dd65394db",
   "metadata": {},
   "outputs": [],
   "source": [
    "class SingleKernelApp(AppBuilder):\n",
    "    def __init__(self, kernelfx):\n",
    "\n",
    "        if isinstance(kernelfx, type):\n",
    "            self.kernelfx = kernelfx()\n",
    "        elif isinstance(kernelfx, Kernel) and callable(kernelfx):\n",
    "            self.kernelfx = kernelfx\n",
    "        else:\n",
    "            raise Exception(\"kernelfx must be a Kernel or a Kernel instance\")\n",
    "\n",
    "        super().__init__()\n",
    "\n",
    "    def callgraph(self, *args, **kwargs):\n",
    "        return self.kernelfx(*args, **kwargs)"
   ]
  },
  {
   "cell_type": "code",
   "execution_count": 3,
   "id": "53866d9c-4223-41b5-8656-8e52717f27a2",
   "metadata": {},
   "outputs": [],
   "source": [
    "%%kernel\n",
    "\n",
    "#include <stdint.h>\n",
    "#include <stdio.h>\n",
    "#include <stdlib.h>\n",
    "#include <type_traits>\n",
    "\n",
    "#include <aie_api/aie.hpp>\n",
    "\n",
    "void leaky_relu(bfloat16 *in_buffer, bfloat16 *out_buffer, uint32_t nbytes)\n",
    "{\n",
    "    auto bfloat_zeroes = aie::zeros<bfloat16, 32>();\n",
    "    auto bfloat_alpha = aie::broadcast<bfloat16, 32>(0.01);\n",
    "    \n",
    "    // divide nbytes by 2 because we're operating on 16-bit datatype\n",
    "    for(int i=0; i<nbytes/2; i+=32) {\n",
    "        \n",
    "        ::aie::vector<bfloat16, 32> in1 = ::aie::load_v<32>(in_buffer);\n",
    "        in_buffer += 32;\n",
    "\n",
    "        ::aie::vector<bfloat16, 32> relu_out = aie::max(in1, bfloat_zeroes);\n",
    "        auto leaky_out_accum = aie::mul(in1, bfloat_alpha);\n",
    "        ::aie::vector<bfloat16, 32> leaky_out = leaky_out_accum.to_vector<bfloat16>();\n",
    "\n",
    "        ::aie::mask<32> mask = aie::lt(in1, bfloat_zeroes);\n",
    "\n",
    "        ::aie::vector<bfloat16, 32> out = aie::select(relu_out, leaky_out, mask);\n",
    "\n",
    "        ::aie::store_v(out_buffer, out);\n",
    "        out_buffer += 32;\n",
    "    }\n",
    "}"
   ]
  },
  {
   "cell_type": "code",
   "execution_count": 4,
   "id": "81f90bb4-938e-4dc1-a9f7-73882db0318c",
   "metadata": {},
   "outputs": [],
   "source": [
    "def behavioralfx(self):\n",
    "    # self.out_buffer.array = np.maximum(self.in_buffer.array, 0)\n",
    "    x = self.in_buffer.array\n",
    "    self.out_buffer.array = np.where(x > 0, x, x * 0.01)\n",
    "\n",
    "leaky_relu.behavioralfx = behavioralfx"
   ]
  },
  {
   "cell_type": "code",
   "execution_count": 5,
   "id": "c4ebcea6-7057-4fe6-a928-da00c02a7d5f",
   "metadata": {},
   "outputs": [],
   "source": [
    "a = np.arange(8, dtype=bfloat16)-4\n",
    "b = np.zeros((8,), dtype=bfloat16)"
   ]
  },
  {
   "cell_type": "code",
   "execution_count": 6,
   "id": "cdfc77cd-1e82-4c05-b0ec-bd280e4d9485",
   "metadata": {},
   "outputs": [
    {
     "data": {
      "text/plain": [
       "array([-0.04, -0.03, -0.02, -0.01,  0.  ,  1.  ,  2.  ,  3.  ],\n",
       "      dtype=float32)"
      ]
     },
     "execution_count": 6,
     "metadata": {},
     "output_type": "execute_result"
    }
   ],
   "source": [
    "app = SingleKernelApp(leaky_relu)\n",
    "app(a, a.nbytes)"
   ]
  },
  {
   "cell_type": "code",
   "execution_count": 7,
   "id": "868ddc0d-c1a5-4c0a-bfb0-4daea79b85f1",
   "metadata": {},
   "outputs": [
    {
     "name": "stdout",
     "output_type": "stream",
     "text": [
      "Using cached leaky_relu kernel object file...\n",
      "Building the xclbin...\n",
      "Successfully Building Application... SingleKernelApp.xclbin & SingleKernelApp.seq delivered\n"
     ]
    }
   ],
   "source": [
    "app.build(a, a.nbytes)"
   ]
  },
  {
   "cell_type": "code",
   "execution_count": 8,
   "id": "4b25be02-7436-4304-b1a3-631644b2d1c7",
   "metadata": {},
   "outputs": [],
   "source": [
    "from npu.runtime import AppRunner"
   ]
  },
  {
   "cell_type": "code",
   "execution_count": 9,
   "id": "cf2b7872-1f21-49d2-a8b5-89686d09bcb1",
   "metadata": {},
   "outputs": [],
   "source": [
    "runner = AppRunner('SingleKernelApp.xclbin')"
   ]
  },
  {
   "cell_type": "code",
   "execution_count": 10,
   "id": "d58a61f2-871d-4d78-8584-a4840b687d5b",
   "metadata": {},
   "outputs": [],
   "source": [
    "input_buffer = runner.allocate(shape=a.shape, dtype=bfloat16)\n",
    "output_buffer = runner.allocate(shape=b.shape, dtype=bfloat16)"
   ]
  },
  {
   "cell_type": "code",
   "execution_count": 11,
   "id": "07107114-0c2a-4659-989f-9542207231ec",
   "metadata": {},
   "outputs": [],
   "source": [
    "input_buffer[:] = np.arange(8, dtype=bfloat16)-4\n",
    "input_buffer.sync_to_npu()"
   ]
  },
  {
   "cell_type": "code",
   "execution_count": 12,
   "id": "35db34f7-1c4b-471a-94cc-2626e72d6525",
   "metadata": {},
   "outputs": [],
   "source": [
    "runner.call(input_buffer, output_buffer)\n",
    "output_buffer.sync_from_npu()"
   ]
  },
  {
   "cell_type": "code",
   "execution_count": 13,
   "id": "82fd31b4-9b6f-491b-9b38-b969c1fcea40",
   "metadata": {},
   "outputs": [
    {
     "data": {
      "text/plain": [
       "PynqBuffer([-4, -3, -2, -1, 0, 1, 2, 3], dtype=bfloat16)"
      ]
     },
     "execution_count": 13,
     "metadata": {},
     "output_type": "execute_result"
    }
   ],
   "source": [
    "input_buffer"
   ]
  },
  {
   "cell_type": "code",
   "execution_count": 14,
   "id": "d598f580-e16f-4828-8249-ad37eb7654cb",
   "metadata": {},
   "outputs": [
    {
     "data": {
      "text/plain": [
       "PynqBuffer([-0.0397949, -0.0299072, -0.0198975, -0.00994873, 0, 1, 2, 3],\n",
       "           dtype=bfloat16)"
      ]
     },
     "execution_count": 14,
     "metadata": {},
     "output_type": "execute_result"
    }
   ],
   "source": [
    "output_buffer"
   ]
  }
 ],
 "metadata": {
  "kernelspec": {
   "display_name": "Python 3 (ipykernel)",
   "language": "python",
   "name": "python3"
  },
  "language_info": {
   "codemirror_mode": {
    "name": "ipython",
    "version": 3
   },
   "file_extension": ".py",
   "mimetype": "text/x-python",
   "name": "python",
   "nbconvert_exporter": "python",
   "pygments_lexer": "ipython3",
   "version": "3.12.3"
  }
 },
 "nbformat": 4,
 "nbformat_minor": 5
}
