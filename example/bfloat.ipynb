{
 "cells": [
  {
   "cell_type": "code",
   "execution_count": 1,
   "id": "45ac43d6-328d-478b-b766-8b3b24bccd0b",
   "metadata": {},
   "outputs": [],
   "source": [
    "import numpy as np\n",
    "from ml_dtypes import bfloat16\n",
    "\n",
    "import npu\n",
    "from npu.build.appbuilder import AppBuilder\n",
    "from npu.build.mtkernel import MTPassThrough\n",
    "from npu.build.itkernel import ITWrite\n",
    "from npu.build.kernel import Kernel\n",
    "from npu.build.port import BufferPort, RTPPort"
   ]
  },
  {
   "cell_type": "code",
   "execution_count": 2,
   "id": "779af977-2e65-4739-8120-254dd65394db",
   "metadata": {},
   "outputs": [],
   "source": [
    "class SingleKernelApp(AppBuilder):\n",
    "    def __init__(self, kernelfx):\n",
    "\n",
    "        if isinstance(kernelfx, type):\n",
    "            self.kernelfx = kernelfx()\n",
    "        elif isinstance(kernelfx, Kernel) and callable(kernelfx):\n",
    "            self.kernelfx = kernelfx\n",
    "        else:\n",
    "            raise Exception(\"kernelfx must be a Kernel or a Kernel instance\")\n",
    "\n",
    "        super().__init__()\n",
    "\n",
    "    def callgraph(self, *args, **kwargs):\n",
    "        return self.kernelfx(*args, **kwargs)"
   ]
  },
  {
   "cell_type": "code",
   "execution_count": 3,
   "id": "4de83bee-61e3-4837-bd3e-f2079c6bb67b",
   "metadata": {},
   "outputs": [],
   "source": [
    "%%kernel\n",
    "\n",
    "void passthrough(bfloat16 *in_buffer, bfloat16 *out_buffer, uint32_t nbytes)\n",
    "{\n",
    "    for(int i=0; i<nbytes/2; i++) {\n",
    "        out_buffer[i] = in_buffer[i];\n",
    "    }\n",
    "}"
   ]
  },
  {
   "cell_type": "code",
   "execution_count": 4,
   "id": "81f90bb4-938e-4dc1-a9f7-73882db0318c",
   "metadata": {},
   "outputs": [],
   "source": [
    "def behavioralfx(self):\n",
    "    self.out_buffer.array = self.in_buffer.array"
   ]
  },
  {
   "cell_type": "code",
   "execution_count": 5,
   "id": "92dd08a3-ba28-418e-80b5-3ec6883e199b",
   "metadata": {},
   "outputs": [],
   "source": [
    "passthrough.behavioralfx = behavioralfx"
   ]
  },
  {
   "cell_type": "code",
   "execution_count": 6,
   "id": "c4ebcea6-7057-4fe6-a928-da00c02a7d5f",
   "metadata": {},
   "outputs": [],
   "source": [
    "a = np.ones((8,), dtype=bfloat16)\n",
    "b = np.zeros((8,), dtype=bfloat16)"
   ]
  },
  {
   "cell_type": "code",
   "execution_count": 7,
   "id": "cdfc77cd-1e82-4c05-b0ec-bd280e4d9485",
   "metadata": {},
   "outputs": [],
   "source": [
    "app = SingleKernelApp(passthrough)"
   ]
  },
  {
   "cell_type": "code",
   "execution_count": 8,
   "id": "35e99474-8b6d-4cf7-9cb2-6b6f4588c1e4",
   "metadata": {},
   "outputs": [
    {
     "data": {
      "text/plain": [
       "array([1, 1, 1, 1, 1, 1, 1, 1], dtype=bfloat16)"
      ]
     },
     "execution_count": 8,
     "metadata": {},
     "output_type": "execute_result"
    }
   ],
   "source": [
    "app(a, a.nbytes)"
   ]
  },
  {
   "cell_type": "code",
   "execution_count": 9,
   "id": "868ddc0d-c1a5-4c0a-bfb0-4daea79b85f1",
   "metadata": {},
   "outputs": [
    {
     "name": "stdout",
     "output_type": "stream",
     "text": [
      "Building the passthrough kernel...\n",
      "Building the xclbin...\n",
      "Successfully Building Application... SingleKernelApp.xclbin & SingleKernelApp.seq delivered\n"
     ]
    }
   ],
   "source": [
    "app.build(a, a.nbytes)"
   ]
  },
  {
   "cell_type": "code",
   "execution_count": 11,
   "id": "4b25be02-7436-4304-b1a3-631644b2d1c7",
   "metadata": {},
   "outputs": [],
   "source": [
    "from npu.runtime import AppRunner"
   ]
  },
  {
   "cell_type": "code",
   "execution_count": 12,
   "id": "cf2b7872-1f21-49d2-a8b5-89686d09bcb1",
   "metadata": {},
   "outputs": [],
   "source": [
    "runner = AppRunner('SingleKernelApp.xclbin')"
   ]
  },
  {
   "cell_type": "code",
   "execution_count": 14,
   "id": "c292ee41-8b58-4575-9079-7f522e14c385",
   "metadata": {},
   "outputs": [],
   "source": [
    "input_buffer = runner.allocate(shape=a.shape, dtype=bfloat16)\n",
    "output_buffer = runner.allocate(shape=b.shape, dtype=bfloat16)\n",
    "\n",
    "input_buffer[:] = a\n",
    "input_buffer.sync_to_npu()"
   ]
  },
  {
   "cell_type": "code",
   "execution_count": 15,
   "id": "2f99121e-a2e1-41b1-971a-84a62248f664",
   "metadata": {},
   "outputs": [],
   "source": [
    "runner.call(input_buffer, output_buffer)\n",
    "\n",
    "output_buffer.sync_from_npu()"
   ]
  },
  {
   "cell_type": "code",
   "execution_count": 16,
   "id": "d598f580-e16f-4828-8249-ad37eb7654cb",
   "metadata": {},
   "outputs": [
    {
     "data": {
      "text/plain": [
       "PynqBuffer([1, 1, 1, 1, 1, 1, 1, 1], dtype=bfloat16)"
      ]
     },
     "execution_count": 16,
     "metadata": {},
     "output_type": "execute_result"
    }
   ],
   "source": [
    "output_buffer"
   ]
  }
 ],
 "metadata": {
  "kernelspec": {
   "display_name": "Python 3 (ipykernel)",
   "language": "python",
   "name": "python3"
  },
  "language_info": {
   "codemirror_mode": {
    "name": "ipython",
    "version": 3
   },
   "file_extension": ".py",
   "mimetype": "text/x-python",
   "name": "python",
   "nbconvert_exporter": "python",
   "pygments_lexer": "ipython3",
   "version": "3.12.3"
  }
 },
 "nbformat": 4,
 "nbformat_minor": 5
}
